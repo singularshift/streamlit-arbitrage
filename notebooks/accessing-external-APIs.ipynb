{
 "cells": [
  {
   "cell_type": "markdown",
   "metadata": {},
   "source": [
    "# Downloading Demographic and Economic Data For Regional Sales Analysis"
   ]
  },
  {
   "cell_type": "markdown",
   "metadata": {},
   "source": [
    "## Population by Country"
   ]
  },
  {
   "cell_type": "code",
   "execution_count": 4,
   "metadata": {},
   "outputs": [],
   "source": [
    "# Import libraries\n",
    "import requests\n",
    "import pandas as pd\n",
    "from bs4 import BeautifulSoup"
   ]
  },
  {
   "cell_type": "code",
   "execution_count": 5,
   "metadata": {},
   "outputs": [],
   "source": [
    "# List of country codes (World Bank ISO codes)\n",
    "countries = {\n",
    "    \"China\": \"CN\",\n",
    "    \"Switzerland\": \"CH\",\n",
    "    \"United States\": \"US\",\n",
    "    \"Japan\": \"JP\",\n",
    "    \"United Kingdom\": \"GB\",\n",
    "    \"European Union\": \"EU\",\n",
    "    \"Singapore\": \"SG\",\n",
    "    \"Taiwan\": \"TW\",\n",
    "    \"United Arab Emirates\": \"AE\",\n",
    "    \"South Korea\": \"KR\"\n",
    "}"
   ]
  },
  {
   "cell_type": "code",
   "execution_count": 6,
   "metadata": {},
   "outputs": [],
   "source": [
    "# Base URL for the World Bank API\n",
    "wb_api_url = \"http://api.worldbank.org/v2/country/{}/indicator/SP.POP.TOTL?format=json\"\n",
    "\n",
    "# Fetch data for each country\n",
    "population_data = []\n",
    "\n",
    "for country, code in countries.items():\n",
    "    url = wb_api_url.format(code)\n",
    "    response = requests.get(url)\n",
    "    \n",
    "    if response.status_code == 200:\n",
    "        data = response.json()\n",
    "        \n",
    "        # Check if the response contains the expected data structure\n",
    "        if isinstance(data, list) and len(data) > 1 and isinstance(data[1], list) and len(data[1]) > 0:\n",
    "            first_entry = data[1][0]\n",
    "            \n",
    "            # Ensure the entry contains the required fields\n",
    "            if \"value\" in first_entry and \"date\" in first_entry:\n",
    "                latest_population = first_entry[\"value\"]\n",
    "                year = first_entry[\"date\"]\n",
    "                population_data.append({\"Country\": country, \"Year\": year, \"Population\": latest_population})\n",
    "            else:\n",
    "                population_data.append({\"Country\": country, \"Year\": \"N/A\", \"Population\": \"Data Not Available\"})\n",
    "        else:\n",
    "            population_data.append({\"Country\": country, \"Year\": \"N/A\", \"Population\": \"No Data Found\"})\n",
    "    else:\n",
    "        population_data.append({\"Country\": country, \"Year\": \"N/A\", \"Population\": \"Error Fetching Data\"})"
   ]
  },
  {
   "cell_type": "code",
   "execution_count": 7,
   "metadata": {},
   "outputs": [
    {
     "data": {
      "text/html": [
       "<div>\n",
       "<style scoped>\n",
       "    .dataframe tbody tr th:only-of-type {\n",
       "        vertical-align: middle;\n",
       "    }\n",
       "\n",
       "    .dataframe tbody tr th {\n",
       "        vertical-align: top;\n",
       "    }\n",
       "\n",
       "    .dataframe thead th {\n",
       "        text-align: right;\n",
       "    }\n",
       "</style>\n",
       "<table border=\"1\" class=\"dataframe\">\n",
       "  <thead>\n",
       "    <tr style=\"text-align: right;\">\n",
       "      <th></th>\n",
       "      <th>Country</th>\n",
       "      <th>Year</th>\n",
       "      <th>Population</th>\n",
       "    </tr>\n",
       "  </thead>\n",
       "  <tbody>\n",
       "    <tr>\n",
       "      <th>0</th>\n",
       "      <td>China</td>\n",
       "      <td>2023</td>\n",
       "      <td>1410710000</td>\n",
       "    </tr>\n",
       "    <tr>\n",
       "      <th>1</th>\n",
       "      <td>Switzerland</td>\n",
       "      <td>2023</td>\n",
       "      <td>8888093</td>\n",
       "    </tr>\n",
       "    <tr>\n",
       "      <th>2</th>\n",
       "      <td>United States</td>\n",
       "      <td>2023</td>\n",
       "      <td>334914895</td>\n",
       "    </tr>\n",
       "    <tr>\n",
       "      <th>3</th>\n",
       "      <td>Japan</td>\n",
       "      <td>2023</td>\n",
       "      <td>124516650</td>\n",
       "    </tr>\n",
       "    <tr>\n",
       "      <th>4</th>\n",
       "      <td>United Kingdom</td>\n",
       "      <td>2023</td>\n",
       "      <td>68350000</td>\n",
       "    </tr>\n",
       "    <tr>\n",
       "      <th>5</th>\n",
       "      <td>Eurozone</td>\n",
       "      <td>2023</td>\n",
       "      <td>448804042</td>\n",
       "    </tr>\n",
       "    <tr>\n",
       "      <th>6</th>\n",
       "      <td>Singapore</td>\n",
       "      <td>2023</td>\n",
       "      <td>5917648</td>\n",
       "    </tr>\n",
       "    <tr>\n",
       "      <th>7</th>\n",
       "      <td>Taiwan</td>\n",
       "      <td>N/A</td>\n",
       "      <td>No Data Found</td>\n",
       "    </tr>\n",
       "    <tr>\n",
       "      <th>8</th>\n",
       "      <td>United Arab Emirates</td>\n",
       "      <td>2023</td>\n",
       "      <td>10483751</td>\n",
       "    </tr>\n",
       "    <tr>\n",
       "      <th>9</th>\n",
       "      <td>South Korea</td>\n",
       "      <td>2023</td>\n",
       "      <td>51712619</td>\n",
       "    </tr>\n",
       "  </tbody>\n",
       "</table>\n",
       "</div>"
      ],
      "text/plain": [
       "                Country  Year     Population\n",
       "0                 China  2023     1410710000\n",
       "1           Switzerland  2023        8888093\n",
       "2         United States  2023      334914895\n",
       "3                 Japan  2023      124516650\n",
       "4        United Kingdom  2023       68350000\n",
       "5              Eurozone  2023      448804042\n",
       "6             Singapore  2023        5917648\n",
       "7                Taiwan   N/A  No Data Found\n",
       "8  United Arab Emirates  2023       10483751\n",
       "9           South Korea  2023       51712619"
      ]
     },
     "execution_count": 7,
     "metadata": {},
     "output_type": "execute_result"
    }
   ],
   "source": [
    "# Creating DataFrame\n",
    "df_population = pd.DataFrame(population_data)\n",
    "df_population['Country'] = df_population['Country'].replace('European Union', 'Eurozone')\n",
    "\n",
    "df_population\n"
   ]
  },
  {
   "cell_type": "code",
   "execution_count": 8,
   "metadata": {},
   "outputs": [],
   "source": [
    "# As the world bank does not provide population of Taiwan, we will enter it manually. Performing scraping for just one entry would not be efficient.\n",
    "# Source: Worldometers\n",
    "df_population.loc[df_population['Country'] == 'Taiwan', ['Year', 'Population']] = ['2023', 23317145]"
   ]
  },
  {
   "cell_type": "markdown",
   "metadata": {},
   "source": [
    "## Currency Exchange Rate"
   ]
  },
  {
   "cell_type": "code",
   "execution_count": 9,
   "metadata": {},
   "outputs": [],
   "source": [
    "# URL for exchange rates from EUR\n",
    "URL = \"https://www.x-rates.com/table/?amount=1&from=EUR\"\n",
    "\n",
    "# Fetch webpage content\n",
    "response = requests.get(URL)\n",
    "soup = BeautifulSoup(response.text, \"html.parser\")\n",
    "\n",
    "table = soup.find(\"table\", class_=\"tablesorter ratesTable\")\n",
    "currency_rates = {}\n",
    "\n",
    "# Extract data from table rows\n",
    "for row in table.find_all(\"tr\")[1:]:  # Skip the header row\n",
    "    cols = row.find_all(\"td\")\n",
    "    if len(cols) > 1:\n",
    "        currency = cols[0].text.strip()\n",
    "        rate = float(cols[1].text.strip())\n",
    "        currency_rates[currency] = rate\n",
    "\n",
    "# Define required currencies and their correct names from the website\n",
    "currencies = {\n",
    "    \"Chinese Yuan Renminbi\": \"CNY\",\n",
    "    \"Swiss Franc\": \"CHF\",\n",
    "    \"US Dollar\": \"USD\",\n",
    "    \"Japanese Yen\": \"JPY\",\n",
    "    \"British Pound\": \"GBP\",\n",
    "    \"Singapore Dollar\": \"SGD\",\n",
    "    \"Taiwan New Dollar\": \"TWD\",\n",
    "    \"Emirati Dirham\": \"AED\",\n",
    "    \"South Korean Won\": \"KRW\"\n",
    "}"
   ]
  },
  {
   "cell_type": "code",
   "execution_count": 10,
   "metadata": {},
   "outputs": [
    {
     "data": {
      "text/html": [
       "<div>\n",
       "<style scoped>\n",
       "    .dataframe tbody tr th:only-of-type {\n",
       "        vertical-align: middle;\n",
       "    }\n",
       "\n",
       "    .dataframe tbody tr th {\n",
       "        vertical-align: top;\n",
       "    }\n",
       "\n",
       "    .dataframe thead th {\n",
       "        text-align: right;\n",
       "    }\n",
       "</style>\n",
       "<table border=\"1\" class=\"dataframe\">\n",
       "  <thead>\n",
       "    <tr style=\"text-align: right;\">\n",
       "      <th></th>\n",
       "      <th>Currency Code</th>\n",
       "      <th>Country</th>\n",
       "      <th>Exchange Rate</th>\n",
       "    </tr>\n",
       "  </thead>\n",
       "  <tbody>\n",
       "    <tr>\n",
       "      <th>0</th>\n",
       "      <td>CNY</td>\n",
       "      <td>Chinese Yuan Renminbi</td>\n",
       "      <td>7.595697</td>\n",
       "    </tr>\n",
       "    <tr>\n",
       "      <th>1</th>\n",
       "      <td>CHF</td>\n",
       "      <td>Swiss Franc</td>\n",
       "      <td>0.942424</td>\n",
       "    </tr>\n",
       "    <tr>\n",
       "      <th>2</th>\n",
       "      <td>USD</td>\n",
       "      <td>US Dollar</td>\n",
       "      <td>1.042608</td>\n",
       "    </tr>\n",
       "    <tr>\n",
       "      <th>3</th>\n",
       "      <td>JPY</td>\n",
       "      <td>Japanese Yen</td>\n",
       "      <td>158.329588</td>\n",
       "    </tr>\n",
       "    <tr>\n",
       "      <th>4</th>\n",
       "      <td>GBP</td>\n",
       "      <td>British Pound</td>\n",
       "      <td>0.828614</td>\n",
       "    </tr>\n",
       "    <tr>\n",
       "      <th>5</th>\n",
       "      <td>SGD</td>\n",
       "      <td>Singapore Dollar</td>\n",
       "      <td>1.400608</td>\n",
       "    </tr>\n",
       "    <tr>\n",
       "      <th>6</th>\n",
       "      <td>TWD</td>\n",
       "      <td>Taiwan New Dollar</td>\n",
       "      <td>34.178978</td>\n",
       "    </tr>\n",
       "    <tr>\n",
       "      <th>7</th>\n",
       "      <td>AED</td>\n",
       "      <td>Emirati Dirham</td>\n",
       "      <td>3.828979</td>\n",
       "    </tr>\n",
       "    <tr>\n",
       "      <th>8</th>\n",
       "      <td>KRW</td>\n",
       "      <td>South Korean Won</td>\n",
       "      <td>1503.322646</td>\n",
       "    </tr>\n",
       "  </tbody>\n",
       "</table>\n",
       "</div>"
      ],
      "text/plain": [
       "  Currency Code                Country  Exchange Rate\n",
       "0           CNY  Chinese Yuan Renminbi       7.595697\n",
       "1           CHF            Swiss Franc       0.942424\n",
       "2           USD              US Dollar       1.042608\n",
       "3           JPY           Japanese Yen     158.329588\n",
       "4           GBP          British Pound       0.828614\n",
       "5           SGD       Singapore Dollar       1.400608\n",
       "6           TWD      Taiwan New Dollar      34.178978\n",
       "7           AED         Emirati Dirham       3.828979\n",
       "8           KRW       South Korean Won    1503.322646"
      ]
     },
     "execution_count": 10,
     "metadata": {},
     "output_type": "execute_result"
    }
   ],
   "source": [
    "# Prepare data for DataFrame\n",
    "data = []\n",
    "for country, code in currencies.items():\n",
    "    rate = currency_rates.get(country, \"N/A\")\n",
    "    data.append([code, country, rate])\n",
    "\n",
    "# Create DataFrame\n",
    "df_currency = pd.DataFrame(data, columns=[\"Currency Code\", \"Country\", \"Exchange Rate\"])\n",
    "\n",
    "# Print the DataFrame\n",
    "df_currency"
   ]
  },
  {
   "cell_type": "markdown",
   "metadata": {},
   "source": [
    "## Pushin Dataframes To Google Cloud Storage\n"
   ]
  },
  {
   "cell_type": "code",
   "execution_count": null,
   "metadata": {},
   "outputs": [
    {
     "name": "stdout",
     "output_type": "stream",
     "text": [
      "Authenticated successfully!\n"
     ]
    }
   ],
   "source": [
    "from google.cloud import bigquery\n",
    "import os\n",
    "\n",
    "# Set the service account key file\n",
    "os.environ[\"GOOGLE_APPLICATION_CREENTIALS\"] = \"inlaid-chiller-442215-u9-669751b975d6.json\"\n",
    "\n",
    "# Initialize BigQuery client\n",
    "client = bigquery.Client()\n",
    "print(\"Authenticated successfully!\")"
   ]
  },
  {
   "cell_type": "code",
   "execution_count": null,
   "metadata": {},
   "outputs": [
    {
     "name": "stdout",
     "output_type": "stream",
     "text": [
      "Both DataFrames uploaded successfully as new tables in BigQuery!\n"
     ]
    }
   ],
   "source": [
    "# Define full table paths\n",
    "table_1_id = f\"inlaid-chiller-442215-u9.Country_data.Population_data\"\n",
    "table_2_id = f\"inlaid-chiller-442215-u9.Country_data.Currency_data\"\n",
    "table_3_id = f\"inlaid-chiller-442215-u9.Tag_Heuer_Specs.Tag_Heuer_Specs\"\n",
    "\n",
    "\n",
    "# Upload first DataFrame\n",
    "job_1 = client.load_table_from_dataframe(df_population, table_1_id)\n",
    "job_1.result()  # Wait for completion\n",
    "\n",
    "# Upload second DataFrame\n",
    "job_2 = client.load_table_from_dataframe(df_currency, table_2_id)\n",
    "job_2.result()  # Wait for completion\n",
    "\n",
    "# Upload Third DataFrame\n",
    "job_3 = client.load_table_from_dataframe(pd.read_csv('tag_heuer_features.csv', usecols=lambda column: column not in [\"Power reserve (hours)\"]), table_3_id)\n",
    "job_3.result()  # Wait for completion\n",
    "\n",
    "print(\"DataFrames uploaded successfully as new tables in BigQuery!\")"
   ]
  },
  {
   "cell_type": "code",
   "execution_count": null,
   "metadata": {},
   "outputs": [],
   "source": []
  }
 ],
 "metadata": {
  "kernelspec": {
   "display_name": "Python 3",
   "language": "python",
   "name": "python3"
  },
  "language_info": {
   "codemirror_mode": {
    "name": "ipython",
    "version": 3
   },
   "file_extension": ".py",
   "mimetype": "text/x-python",
   "name": "python",
   "nbconvert_exporter": "python",
   "pygments_lexer": "ipython3",
   "version": "3.9.6"
  }
 },
 "nbformat": 4,
 "nbformat_minor": 2
}
