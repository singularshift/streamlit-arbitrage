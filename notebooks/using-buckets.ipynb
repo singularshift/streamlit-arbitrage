{
 "cells": [
  {
   "cell_type": "code",
   "execution_count": 1,
   "metadata": {},
   "outputs": [],
   "source": [
    "from google.cloud import storage"
   ]
  },
  {
   "cell_type": "code",
   "execution_count": 2,
   "metadata": {},
   "outputs": [],
   "source": [
    "bucket_name = \"bucket_tag_heuer\"  # Replace with the actual bucket name\n",
    "\n",
    "client = storage.Client()\n",
    "bucket = client.bucket(bucket_name)\n",
    "\n",
    "# List all files\n",
    "blobs = bucket.list_blobs()\n",
    "for blob in blobs:\n",
    "    print(blob.name)"
   ]
  },
  {
   "cell_type": "code",
   "execution_count": 3,
   "metadata": {},
   "outputs": [
    {
     "name": "stdout",
     "output_type": "stream",
     "text": [
      "File tag-heuer-catalogue.csv uploaded to tag-heuer-catalogue.csv.\n"
     ]
    }
   ],
   "source": [
    "# Define the file path and the destination blob name\n",
    "file_path = \"tag-heuer-catalogue.csv\"\n",
    "destination_blob_name = \"tag-heuer-catalogue.csv\"\n",
    "\n",
    "# Create a new blob and upload the file's content\n",
    "blob = bucket.blob(destination_blob_name)\n",
    "blob.upload_from_filename(file_path)\n",
    "\n",
    "print(f\"File {file_path} uploaded to {destination_blob_name}.\")"
   ]
  }
 ],
 "metadata": {
  "kernelspec": {
   "display_name": "tag-env",
   "language": "python",
   "name": "python3"
  },
  "language_info": {
   "codemirror_mode": {
    "name": "ipython",
    "version": 3
   },
   "file_extension": ".py",
   "mimetype": "text/x-python",
   "name": "python",
   "nbconvert_exporter": "python",
   "pygments_lexer": "ipython3",
   "version": "3.8.12"
  }
 },
 "nbformat": 4,
 "nbformat_minor": 2
}
