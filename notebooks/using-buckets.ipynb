{
 "cells": [
  {
   "cell_type": "markdown",
   "metadata": {},
   "source": [
    "# Accessing GCP Buckets in Python"
   ]
  },
  {
   "cell_type": "code",
   "execution_count": 5,
   "metadata": {},
   "outputs": [],
   "source": [
    "from google.cloud import storage"
   ]
  },
  {
   "cell_type": "markdown",
   "metadata": {},
   "source": [
    "### Connecting to the bucket"
   ]
  },
  {
   "cell_type": "code",
   "execution_count": 6,
   "metadata": {},
   "outputs": [],
   "source": [
    "bucket_name = \"bucket_tag_heuer\"  # Replace with the actual bucket name\n",
    "\n",
    "client = storage.Client()\n",
    "bucket = client.bucket(bucket_name)"
   ]
  },
  {
   "cell_type": "markdown",
   "metadata": {},
   "source": [
    "### Listing files in the bucket"
   ]
  },
  {
   "cell_type": "code",
   "execution_count": 7,
   "metadata": {},
   "outputs": [
    {
     "name": "stdout",
     "output_type": "stream",
     "text": [
      "tag-heuer-catalogue.csv\n"
     ]
    }
   ],
   "source": [
    "# List all files\n",
    "blobs = bucket.list_blobs()\n",
    "for blob in blobs:\n",
    "    print(blob.name)"
   ]
  },
  {
   "cell_type": "markdown",
   "metadata": {},
   "source": [
    "### Adding files to the bucket"
   ]
  },
  {
   "cell_type": "code",
   "execution_count": 8,
   "metadata": {},
   "outputs": [
    {
     "name": "stdout",
     "output_type": "stream",
     "text": [
      "File tag-heuer-catalogue.csv uploaded to tag-heuer-catalogue.csv.\n"
     ]
    }
   ],
   "source": [
    "# Define the file path and the destination blob name\n",
    "file_path = \"tag-heuer-catalogue.csv\"\n",
    "destination_blob_name = \"tag-heuer-catalogue.csv\"\n",
    "\n",
    "# Create a new blob and upload the file's content\n",
    "blob = bucket.blob(destination_blob_name)\n",
    "blob.upload_from_filename(file_path)\n",
    "\n",
    "print(f\"File {file_path} uploaded to {destination_blob_name}.\")"
   ]
  }
 ],
 "metadata": {
  "kernelspec": {
   "display_name": "tag-env",
   "language": "python",
   "name": "python3"
  },
  "language_info": {
   "codemirror_mode": {
    "name": "ipython",
    "version": 3
   },
   "file_extension": ".py",
   "mimetype": "text/x-python",
   "name": "python",
   "nbconvert_exporter": "python",
   "pygments_lexer": "ipython3",
   "version": "3.8.12"
  }
 },
 "nbformat": 4,
 "nbformat_minor": 2
}
