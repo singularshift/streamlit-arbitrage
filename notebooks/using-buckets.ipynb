{
 "cells": [
  {
   "cell_type": "markdown",
   "metadata": {},
   "source": [
    "# Accessing GCP Buckets in Python"
   ]
  },
  {
   "cell_type": "code",
   "execution_count": 2,
   "metadata": {},
   "outputs": [],
   "source": [
    "from google.cloud import storage"
   ]
  },
  {
   "cell_type": "markdown",
   "metadata": {},
   "source": [
    "### Connecting to the bucket"
   ]
  },
  {
   "cell_type": "code",
   "execution_count": 3,
   "metadata": {},
   "outputs": [],
   "source": [
    "bucket_name = \"bucket_tag_heuer\"  # Replace with the actual bucket name\n",
    "\n",
    "client = storage.Client()\n",
    "bucket = client.bucket(bucket_name)"
   ]
  },
  {
   "cell_type": "markdown",
   "metadata": {},
   "source": [
    "### Listing files in the bucket"
   ]
  },
  {
   "cell_type": "code",
   "execution_count": 4,
   "metadata": {},
   "outputs": [
    {
     "name": "stdout",
     "output_type": "stream",
     "text": [
      "tag-heuer-catalogue.csv\n"
     ]
    }
   ],
   "source": [
    "# List all files\n",
    "blobs = bucket.list_blobs()\n",
    "for blob in blobs:\n",
    "    print(blob.name)"
   ]
  },
  {
   "cell_type": "markdown",
   "metadata": {},
   "source": [
    "### Adding files to the bucket"
   ]
  },
  {
   "cell_type": "code",
   "execution_count": 5,
   "metadata": {},
   "outputs": [
    {
     "name": "stdout",
     "output_type": "stream",
     "text": [
      "File data/price_evolution.csv uploaded to price_evolution.csv.\n",
      "File data/tag-heuer-catalogue.csv uploaded to tag-heuer-catalogue.csv.\n",
      "File data/watch_catalogue.csv uploaded to watch_catalogue.csv.\n"
     ]
    }
   ],
   "source": [
    "import os\n",
    "\n",
    "# Define the folder path\n",
    "folder_path = \"data\"\n",
    "\n",
    "# Iterate through all files in the folder\n",
    "for file_name in os.listdir(folder_path):\n",
    "    file_path = os.path.join(folder_path, file_name)\n",
    "    \n",
    "    # Ensure it's a file\n",
    "    if os.path.isfile(file_path):\n",
    "        # Create a new blob and upload the file's content\n",
    "        blob = bucket.blob(file_name)\n",
    "        blob.upload_from_filename(file_path)\n",
    "        \n",
    "        print(f\"File {file_path} uploaded to {file_name}.\")"
   ]
  }
 ],
 "metadata": {
  "kernelspec": {
   "display_name": "tag-env",
   "language": "python",
   "name": "python3"
  },
  "language_info": {
   "codemirror_mode": {
    "name": "ipython",
    "version": 3
   },
   "file_extension": ".py",
   "mimetype": "text/x-python",
   "name": "python",
   "nbconvert_exporter": "python",
   "pygments_lexer": "ipython3",
   "version": "3.8.12"
  }
 },
 "nbformat": 4,
 "nbformat_minor": 2
}
